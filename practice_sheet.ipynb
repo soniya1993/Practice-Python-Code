{
  "nbformat": 4,
  "nbformat_minor": 0,
  "metadata": {
    "colab": {
      "name": "practice sheet.ipynb",
      "provenance": [],
      "collapsed_sections": [],
      "authorship_tag": "ABX9TyMiCml5ZK6n73VILg8KF78r",
      "include_colab_link": true
    },
    "kernelspec": {
      "name": "python3",
      "display_name": "Python 3"
    },
    "language_info": {
      "name": "python"
    }
  },
  "cells": [
    {
      "cell_type": "markdown",
      "metadata": {
        "id": "view-in-github",
        "colab_type": "text"
      },
      "source": [
        "<a href=\"https://colab.research.google.com/github/soniya1993/Practice-Python-Code/blob/main/practice_sheet.ipynb\" target=\"_parent\"><img src=\"https://colab.research.google.com/assets/colab-badge.svg\" alt=\"Open In Colab\"/></a>"
      ]
    },
    {
      "cell_type": "code",
      "execution_count": null,
      "metadata": {
        "colab": {
          "base_uri": "https://localhost:8080/"
        },
        "id": "hVvM-l_bB63C",
        "outputId": "6eba8e8d-9cdf-4ff3-c17b-e6f7881a48d4"
      },
      "outputs": [
        {
          "output_type": "stream",
          "name": "stdout",
          "text": [
            "7\n",
            "0\n",
            "1\n",
            "1\n",
            "2\n",
            "3\n",
            "5\n",
            "8\n"
          ]
        }
      ],
      "source": [
        "#fabonacci sereis\n",
        "num=int(input())\n",
        "n1,n2=0,1\n",
        "count=0\n",
        "if num<=0:\n",
        "  print(\"print positive number\")\n",
        "elif num==1:\n",
        "  print(n1)\n",
        "else:\n",
        "  while count<num:\n",
        "    print(n1)\n",
        "    nth=n1+n2\n",
        "    n1=n2\n",
        "    n2=nth\n",
        "    count+=1"
      ]
    },
    {
      "cell_type": "code",
      "source": [
        "def prime(x):\n",
        "  for i in range(2,x):\n",
        "    if x%i==0:\n",
        "      print(\"no\")\n",
        "      break\n",
        "  else:\n",
        "    print(\"yes\")"
      ],
      "metadata": {
        "id": "WTS7zT33BYuN"
      },
      "execution_count": null,
      "outputs": []
    },
    {
      "cell_type": "code",
      "source": [
        "prime(71)"
      ],
      "metadata": {
        "colab": {
          "base_uri": "https://localhost:8080/"
        },
        "id": "P09SORk1BtPq",
        "outputId": "9e8eafc0-6125-44b8-cdd4-485e77cea102"
      },
      "execution_count": null,
      "outputs": [
        {
          "output_type": "stream",
          "name": "stdout",
          "text": [
            "yes\n"
          ]
        }
      ]
    },
    {
      "cell_type": "code",
      "source": [
        "#armstrong\n",
        "def armstrong(x):\n",
        "  temp=x\n",
        "  result=0\n",
        "  order=len(str(x))\n",
        "  while temp>0: \n",
        "    digit=temp%10\n",
        "    result+=digit**order\n",
        "    temp//=10\n",
        "    return \"It's an Armstrong Number\" if (result == x) else \"No, It's not an Armstrong Number\"\n",
        "  \n"
      ],
      "metadata": {
        "id": "2N4KSXKODt83"
      },
      "execution_count": null,
      "outputs": []
    },
    {
      "cell_type": "code",
      "source": [
        "def palidrome(x):\n",
        "  if x==x[::-1]:\n",
        "    print(\"number is palidrome\")\n",
        "  else:\n",
        "    print(\"not a palidrome\")"
      ],
      "metadata": {
        "id": "JvyGxYBMD8Dy"
      },
      "execution_count": null,
      "outputs": []
    },
    {
      "cell_type": "code",
      "source": [
        "palidrome(\"soniya\")"
      ],
      "metadata": {
        "colab": {
          "base_uri": "https://localhost:8080/"
        },
        "id": "Z4-qIFgOBOxW",
        "outputId": "62dd5c5b-dd29-44ac-f682-951a1a1ed780"
      },
      "execution_count": null,
      "outputs": [
        {
          "output_type": "stream",
          "name": "stdout",
          "text": [
            "not a palidrome\n"
          ]
        }
      ]
    },
    {
      "cell_type": "code",
      "source": [
        "def mono(num):\n",
        "  return \"increasing\" if all(num[i]<num[i+1] for i in range(len(num)-1))else\\\n",
        "         \"decresing\" if all(num[i+1]<num[i] for i in range(len(num)-1))else\\\n",
        "         \"not a monomatic\"\n",
        "       "
      ],
      "metadata": {
        "id": "YxjpqqxDQiAF"
      },
      "execution_count": null,
      "outputs": []
    },
    {
      "cell_type": "code",
      "source": [
        "def test(str,pre):\n",
        "  return [x  for x in str  if x.startswith(prefix)]"
      ],
      "metadata": {
        "id": "fzVny77FUPco"
      },
      "execution_count": null,
      "outputs": []
    },
    {
      "cell_type": "code",
      "source": [
        "def Reversing(Arr):\n",
        "    return [ele for ele in reversed(Arr)]"
      ],
      "metadata": {
        "id": "3LQvkxlwUuc3"
      },
      "execution_count": null,
      "outputs": []
    },
    {
      "cell_type": "code",
      "source": [
        "Arr=[1,2,3,4,5,6,7,7,7,8]\n",
        "ele=[3,4]\n",
        "{i for i in Arr if i not in ele }"
      ],
      "metadata": {
        "colab": {
          "base_uri": "https://localhost:8080/"
        },
        "id": "v-lYnuFEr_gN",
        "outputId": "61483b23-8a82-48db-a1b4-828c34fe3455"
      },
      "execution_count": null,
      "outputs": [
        {
          "output_type": "execute_result",
          "data": {
            "text/plain": [
              "{1, 2, 5, 6, 7, 8}"
            ]
          },
          "metadata": {},
          "execution_count": 35
        }
      ]
    },
    {
      "cell_type": "code",
      "source": [
        "def Break_Chunks(Given_List, n):\n",
        "    return [Given_List[ele:ele+n] for ele in range(1,len(Given_List),2)]\n",
        "\n",
        "Given_List = [10, 45, 20, 62, 47, 85, 12, 63, 24, 78, 10,5]\n",
        "n = 2\n",
        "print(Break_Chunks(Given_List, n))"
      ],
      "metadata": {
        "colab": {
          "base_uri": "https://localhost:8080/"
        },
        "id": "rh2TyT-ny4C0",
        "outputId": "14ac1fb0-703a-485b-9236-1ef612ac52eb"
      },
      "execution_count": null,
      "outputs": [
        {
          "output_type": "stream",
          "name": "stdout",
          "text": [
            "[[45, 20], [62, 47], [85, 12], [63, 24], [78, 10], [5]]\n"
          ]
        }
      ]
    },
    {
      "cell_type": "code",
      "source": [
        "def Swap_Last_with_First(Arr):\n",
        "    Arr[0], Arr[-1] = Arr[-1], Arr[0]\n",
        "    return Arr"
      ],
      "metadata": {
        "id": "WJogCVvG0Fq6"
      },
      "execution_count": null,
      "outputs": []
    },
    {
      "cell_type": "code",
      "source": [
        "Given_List = [10, 45, 20, 62, 47, 85, 12, 63, 24, 78, 10,5]\n",
        "[Given_List[i:i+2]  for i in range(1,len(Given_List),3)]"
      ],
      "metadata": {
        "colab": {
          "base_uri": "https://localhost:8080/"
        },
        "id": "1zGdTsUWKVHP",
        "outputId": "a4121685-ba2c-4b48-d598-63ac88dddc4b"
      },
      "execution_count": null,
      "outputs": [
        {
          "output_type": "execute_result",
          "data": {
            "text/plain": [
              "[[45, 20], [47, 85], [63, 24], [10, 5]]"
            ]
          },
          "metadata": {},
          "execution_count": 28
        }
      ]
    },
    {
      "cell_type": "code",
      "source": [
        "def Occurence_of_Element(Given_List, Element):\n",
        "    return Given_List.count(Element)"
      ],
      "metadata": {
        "id": "CGz7H-ePQdT2"
      },
      "execution_count": null,
      "outputs": []
    },
    {
      "cell_type": "code",
      "source": [
        "Given_List = [5, 6, [], 7, 8, 9, [], 12, [], 4, []]\n",
        "result = list(filter(None, Given_List))\n",
        "print(result)"
      ],
      "metadata": {
        "colab": {
          "base_uri": "https://localhost:8080/"
        },
        "id": "xSCiRHIDQ-Aw",
        "outputId": "2280ad1a-c671-4f33-f393-cabb0535b92d"
      },
      "execution_count": null,
      "outputs": [
        {
          "output_type": "stream",
          "name": "stdout",
          "text": [
            "[5, 6, 7, 8, 9, 12, 4]\n"
          ]
        }
      ]
    },
    {
      "cell_type": "code",
      "source": [
        "def Cumulative_Sum(Given_List):\n",
        "    Result = []\n",
        "    sum = 0\n",
        "    for i in range(0, len(Given_List)):\n",
        "        sum = sum+Given_List[i]\n",
        "        Result.append(sum)\n",
        "    return Result"
      ],
      "metadata": {
        "id": "0_hIESd4T4Ww"
      },
      "execution_count": null,
      "outputs": []
    },
    {
      "cell_type": "code",
      "source": [
        "lst = [10, 45, 20, 20,20,20,63, 24, 78, 10,5]\n",
        "set(filter(lambda x:lst.count(x)>1,lst))\n"
      ],
      "metadata": {
        "colab": {
          "base_uri": "https://localhost:8080/"
        },
        "id": "8rpCsQu4UQ82",
        "outputId": "c8857c89-5b0b-44a2-c3f2-23c809fa3b82"
      },
      "execution_count": null,
      "outputs": [
        {
          "output_type": "execute_result",
          "data": {
            "text/plain": [
              "{10, 20}"
            ]
          },
          "metadata": {},
          "execution_count": 46
        }
      ]
    },
    {
      "cell_type": "code",
      "source": [
        "def Increment_Numeric_String(Test_list, n):\n",
        "    Result = []\n",
        "    for ele in Test_list:\n",
        "        if ele.isdigit():\n",
        "            Result.append(str(int(ele)+n))\n",
        "        else:\n",
        "            Result.append(ele)\n",
        "    return Result"
      ],
      "metadata": {
        "id": "LNrrQtW8fBE5"
      },
      "execution_count": null,
      "outputs": []
    },
    {
      "cell_type": "markdown",
      "source": [
        "A string is happy if every three consecutive characters are distinct. Write a Python program to find two indices making a given string unhappy."
      ],
      "metadata": {
        "id": "ChkqYeVPXB4b"
      }
    },
    {
      "cell_type": "code",
      "source": [
        "def test(s):\n",
        "  for i in range(len(s)-2):\n",
        "    if s[i]==s[i+1]:\n",
        "      return [i,i+1]\n",
        "    if s[i]==s[i+2]:\n",
        "      return [i,i+2]\n",
        "\n"
      ],
      "metadata": {
        "id": "V1MHV3W0XETx"
      },
      "execution_count": null,
      "outputs": []
    },
    {
      "cell_type": "code",
      "source": [
        "def exp(n,a):\n",
        "  x=0\n",
        "  m=1\n",
        "  while n!=m:\n",
        "    x=x+1\n",
        "    m=m*a\n",
        "  return x\n"
      ],
      "metadata": {
        "id": "6I2WQtHFYXzB"
      },
      "execution_count": null,
      "outputs": []
    },
    {
      "cell_type": "code",
      "source": [
        "exp(625,5)"
      ],
      "metadata": {
        "colab": {
          "base_uri": "https://localhost:8080/"
        },
        "id": "gFR2L58OfO4Y",
        "outputId": "28f7a629-d260-4ab6-e54a-4eba4b3af8b3"
      },
      "execution_count": null,
      "outputs": [
        {
          "output_type": "execute_result",
          "data": {
            "text/plain": [
              "4"
            ]
          },
          "metadata": {},
          "execution_count": 5
        }
      ]
    },
    {
      "cell_type": "markdown",
      "source": [
        "SELECT (name || '(' || SUBSTR(occupation,1,1) || ')') FROM occupations ORDER BY name;\n",
        "SELECT ('There are a total of ' || COUNT(occupation) || ' ' || LOWER(occupation) || 's' || '.') FROM occupations GROUP BY occupation ORDER BY COUNT(occupation), occupation ASC;"
      ],
      "metadata": {
        "id": "McxF5q4RVWgD"
      }
    },
    {
      "cell_type": "code",
      "source": [
        "def test(s):\n",
        "    import re\n",
        "    return re.search(r\"\\[(\\[\\])\\]\", s).group(0)"
      ],
      "metadata": {
        "id": "3KUGebq_nBjV"
      },
      "execution_count": null,
      "outputs": []
    },
    {
      "cell_type": "code",
      "source": [
        "brackets = \"]][][[]]]\"\n",
        "test(brackets)"
      ],
      "metadata": {
        "colab": {
          "base_uri": "https://localhost:8080/",
          "height": 36
        },
        "id": "YBZ_dGtanTRn",
        "outputId": "1d6914a0-7676-4117-ad1c-1e03c5cfc8cc"
      },
      "execution_count": null,
      "outputs": [
        {
          "output_type": "execute_result",
          "data": {
            "text/plain": [
              "'[[]]'"
            ],
            "application/vnd.google.colaboratory.intrinsic+json": {
              "type": "string"
            }
          },
          "metadata": {},
          "execution_count": 29
        }
      ]
    },
    {
      "cell_type": "code",
      "source": [
        "def test(strs):\n",
        "  return [\"\".join(c for c in text if c.lower() in \"aeiou\") + (text[-1] if text[-1].lower() == \"y\" else \"\")\n",
        "            for text in strs]"
      ],
      "metadata": {
        "id": "c5XUSg39phz_"
      },
      "execution_count": null,
      "outputs": []
    },
    {
      "cell_type": "code",
      "source": [
        "A = [[1, 2, 3],\n",
        "[4, 5, 6],\n",
        "[7, 8, 9]]\n",
        "\n",
        "[A[i][len(A)-1-i] for i in range(len(A))]"
      ],
      "metadata": {
        "colab": {
          "base_uri": "https://localhost:8080/"
        },
        "id": "dfBUWmoG6_iq",
        "outputId": "bc8b7624-ad64-4b2d-98be-60ec2fc6df55"
      },
      "execution_count": null,
      "outputs": [
        {
          "output_type": "execute_result",
          "data": {
            "text/plain": [
              "[3, 5, 7]"
            ]
          },
          "metadata": {},
          "execution_count": 6
        }
      ]
    },
    {
      "cell_type": "code",
      "source": [
        "def test(a,b):\n",
        "  r=range(a,b)\n",
        "  return bin(round(sum(r)/len(r)))\n",
        "test(4,5)"
      ],
      "metadata": {
        "colab": {
          "base_uri": "https://localhost:8080/",
          "height": 35
        },
        "id": "7KwmVjEAZFT8",
        "outputId": "30c7eb58-f108-4aeb-da40-ec87dab6e201"
      },
      "execution_count": null,
      "outputs": [
        {
          "output_type": "execute_result",
          "data": {
            "text/plain": [
              "'0b100'"
            ],
            "application/vnd.google.colaboratory.intrinsic+json": {
              "type": "string"
            }
          },
          "metadata": {},
          "execution_count": 42
        }
      ]
    },
    {
      "cell_type": "code",
      "source": [
        "def test(s):\n",
        "  for i in range(len(s)-2):\n",
        "    if s[i]==s[i+1]:\n",
        "      return [i,i+1]\n",
        "    if s[i]==s[i+2]:\n",
        "      return [i,i+2]\n",
        "test(\"happy\")\n"
      ],
      "metadata": {
        "colab": {
          "base_uri": "https://localhost:8080/"
        },
        "id": "5KhzC8PSehDz",
        "outputId": "e7571ae3-ca6b-4997-ebd4-6e85365c5661"
      },
      "execution_count": null,
      "outputs": [
        {
          "output_type": "execute_result",
          "data": {
            "text/plain": [
              "[2, 3]"
            ]
          },
          "metadata": {},
          "execution_count": 50
        }
      ]
    },
    {
      "cell_type": "code",
      "source": [
        " a=\"()(())\"\n",
        " b= list(a)\n",
        " print(b)\n",
        "    stack = []\n",
        "    for i, c in enumerate(b):\n",
        "        if c == \"(\":\n",
        "            stack.append(i)\n",
        "        else:\n",
        "            b[stack[-1]] = i\n",
        "            #a[i] = stack.pop()\n",
        "    #return a "
      ],
      "metadata": {
        "colab": {
          "base_uri": "https://localhost:8080/"
        },
        "id": "pV6beRgDf_Ez",
        "outputId": "892358cf-da84-4fe8-d0f5-e0e293636561"
      },
      "execution_count": null,
      "outputs": [
        {
          "output_type": "stream",
          "name": "stdout",
          "text": [
            "['(', ')', '(', '(', ')', ')']\n"
          ]
        }
      ]
    },
    {
      "cell_type": "code",
      "source": [
        "def test(strs):\n",
        "        return [\"\".join(c for c in text if c.lower() in \"aeiou\") + (text[-1] if text[-1].lower() == \"y\" else \"\")\n",
        "            for text in strs]\n",
        " "
      ],
      "metadata": {
        "id": "1w1n0ndMjyYd"
      },
      "execution_count": null,
      "outputs": []
    },
    {
      "cell_type": "code",
      "source": [
        "num=[\"sbhjwbcx\",\"dbbhwcb\",\"jbhjx\"]\n",
        "test(num)"
      ],
      "metadata": {
        "colab": {
          "base_uri": "https://localhost:8080/"
        },
        "id": "t0_IEOGZl4Dq",
        "outputId": "709fb2fc-d1ac-440d-f28a-ecb36aa3cd10"
      },
      "execution_count": null,
      "outputs": [
        {
          "output_type": "execute_result",
          "data": {
            "text/plain": [
              "['', '', '']"
            ]
          },
          "metadata": {},
          "execution_count": 70
        }
      ]
    },
    {
      "cell_type": "code",
      "source": [
        "x = int(input())\n",
        "y = int(input())\n",
        "z = int(input())\n",
        "N = int(input())\n",
        "#Solve\n",
        "arr = [[X, Y, Z] for X in range(x+1) for Y in range(y+1) for Z in range(z+1) if X + Y + Z != N]\n",
        "#Output\n",
        "print(arr)"
      ],
      "metadata": {
        "colab": {
          "base_uri": "https://localhost:8080/"
        },
        "id": "o9x6jXSR4lrP",
        "outputId": "7f811878-112a-4740-eb3e-18c7f68616d5"
      },
      "execution_count": null,
      "outputs": [
        {
          "output_type": "stream",
          "name": "stdout",
          "text": [
            "2\n",
            "3\n",
            "4\n",
            "10\n",
            "[[0, 0, 0], [0, 0, 1], [0, 0, 2], [0, 0, 3], [0, 0, 4], [0, 1, 0], [0, 1, 1], [0, 1, 2], [0, 1, 3], [0, 1, 4], [0, 2, 0], [0, 2, 1], [0, 2, 2], [0, 2, 3], [0, 2, 4], [0, 3, 0], [0, 3, 1], [0, 3, 2], [0, 3, 3], [0, 3, 4], [1, 0, 0], [1, 0, 1], [1, 0, 2], [1, 0, 3], [1, 0, 4], [1, 1, 0], [1, 1, 1], [1, 1, 2], [1, 1, 3], [1, 1, 4], [1, 2, 0], [1, 2, 1], [1, 2, 2], [1, 2, 3], [1, 2, 4], [1, 3, 0], [1, 3, 1], [1, 3, 2], [1, 3, 3], [1, 3, 4], [2, 0, 0], [2, 0, 1], [2, 0, 2], [2, 0, 3], [2, 0, 4], [2, 1, 0], [2, 1, 1], [2, 1, 2], [2, 1, 3], [2, 1, 4], [2, 2, 0], [2, 2, 1], [2, 2, 2], [2, 2, 3], [2, 2, 4], [2, 3, 0], [2, 3, 1], [2, 3, 2], [2, 3, 3], [2, 3, 4]]\n"
          ]
        }
      ]
    },
    {
      "cell_type": "code",
      "source": [
        "def test(n,a):\n",
        "    m = 1\n",
        "    x = 0\n",
        "    while m != n:\n",
        "        x += 1\n",
        "        m *= a\n",
        "    return x\n",
        "\n",
        "a = 2\n",
        "n = 1024\n",
        "print(\"a = \",a,\": n = \",n)\n",
        "print(\"Find an integer exponent x such that a^x = n:\")    \n",
        "print(test(n,a))\n",
        "a = 3\n",
        "n = 81"
      ],
      "metadata": {
        "colab": {
          "base_uri": "https://localhost:8080/"
        },
        "id": "sniC0Tcfcypr",
        "outputId": "1d8f5a57-6133-43a9-beed-ba44a3de331b"
      },
      "execution_count": null,
      "outputs": [
        {
          "output_type": "stream",
          "name": "stdout",
          "text": [
            "a =  2 : n =  1024\n",
            "Find an integer exponent x such that a^x = n:\n",
            "10\n"
          ]
        }
      ]
    },
    {
      "cell_type": "code",
      "source": [
        "def prime(x,y):\n",
        "  prime_list=[]\n",
        "  for i in range(x,y):\n",
        "    if i==0 or i==1:\n",
        "      continue\n",
        "    else:\n",
        "      for j in range(2,i):\n",
        "        if i%j==0:\n",
        "          break\n",
        "      else:\n",
        "        prime_list.append(i)\n",
        "  return prime_list"
      ],
      "metadata": {
        "id": "TRQt4snEFwdA"
      },
      "execution_count": null,
      "outputs": []
    },
    {
      "cell_type": "code",
      "source": [
        "prime(2,15)"
      ],
      "metadata": {
        "colab": {
          "base_uri": "https://localhost:8080/"
        },
        "id": "HH6J93L_GU4l",
        "outputId": "9136a823-6cb2-41cb-fa38-c203cdf706be"
      },
      "execution_count": null,
      "outputs": [
        {
          "output_type": "execute_result",
          "data": {
            "text/plain": [
              "[2, 3, 5, 7, 11, 13]"
            ]
          },
          "metadata": {},
          "execution_count": 11
        }
      ]
    },
    {
      "cell_type": "code",
      "source": [
        "def harmonic_sum(n):\n",
        "  if n < 2:\n",
        "    return 1\n",
        "  else:\n",
        "    return 1 / n + (harmonic_sum(n - 1))\n",
        "    "
      ],
      "metadata": {
        "id": "oTAYqa1U438g"
      },
      "execution_count": null,
      "outputs": []
    },
    {
      "cell_type": "code",
      "source": [
        "def test(parens):\n",
        "    return [len(s.split(')')[0]) for s in parens.split()]"
      ],
      "metadata": {
        "id": "IH--QaDwZhya"
      },
      "execution_count": null,
      "outputs": []
    },
    {
      "cell_type": "code",
      "source": [
        "phone= 212-555-1212 \n",
        "a=concat(left(phone,3),'***')"
      ],
      "metadata": {
        "colab": {
          "base_uri": "https://localhost:8080/",
          "height": 183
        },
        "id": "BhYj-80hkXXk",
        "outputId": "5298f17a-e6a4-4390-f34d-ec058e32046b"
      },
      "execution_count": null,
      "outputs": [
        {
          "output_type": "error",
          "ename": "NameError",
          "evalue": "ignored",
          "traceback": [
            "\u001b[0;31m---------------------------------------------------------------------------\u001b[0m",
            "\u001b[0;31mNameError\u001b[0m                                 Traceback (most recent call last)",
            "\u001b[0;32m<ipython-input-3-3bc5f5e8ee88>\u001b[0m in \u001b[0;36m<module>\u001b[0;34m()\u001b[0m\n\u001b[1;32m      1\u001b[0m \u001b[0mphone\u001b[0m\u001b[0;34m=\u001b[0m \u001b[0;36m212\u001b[0m\u001b[0;34m-\u001b[0m\u001b[0;36m555\u001b[0m\u001b[0;34m-\u001b[0m\u001b[0;36m1212\u001b[0m\u001b[0;34m\u001b[0m\u001b[0;34m\u001b[0m\u001b[0m\n\u001b[0;32m----> 2\u001b[0;31m \u001b[0ma\u001b[0m\u001b[0;34m=\u001b[0m\u001b[0mconcat\u001b[0m\u001b[0;34m(\u001b[0m\u001b[0mleft\u001b[0m\u001b[0;34m(\u001b[0m\u001b[0mphone\u001b[0m\u001b[0;34m,\u001b[0m\u001b[0;36m3\u001b[0m\u001b[0;34m)\u001b[0m\u001b[0;34m,\u001b[0m\u001b[0;34m'***'\u001b[0m\u001b[0;34m)\u001b[0m\u001b[0;34m\u001b[0m\u001b[0;34m\u001b[0m\u001b[0m\n\u001b[0m",
            "\u001b[0;31mNameError\u001b[0m: name 'concat' is not defined"
          ]
        }
      ]
    },
    {
      "cell_type": "code",
      "source": [
        "x = 'abcd@gmail.com'\n",
        "for i in x:\n",
        "     print(i)\n"
      ],
      "metadata": {
        "colab": {
          "base_uri": "https://localhost:8080/"
        },
        "id": "SKmA4jpimLaA",
        "outputId": "bc7e39f5-f2cc-439a-dda2-19f7d3fdcbf8"
      },
      "execution_count": null,
      "outputs": [
        {
          "output_type": "stream",
          "name": "stdout",
          "text": [
            "a\n",
            "b\n",
            "c\n",
            "d\n",
            "@\n",
            "g\n",
            "m\n",
            "a\n",
            "i\n",
            "l\n",
            ".\n",
            "c\n",
            "o\n",
            "m\n"
          ]
        }
      ]
    },
    {
      "cell_type": "code",
      "source": [
        "def f1():\n",
        "     x=100\n",
        "     print(x)\n",
        "     x=+1\n",
        "f1()"
      ],
      "metadata": {
        "id": "THm4nKtyml62",
        "outputId": "1b25cd6c-6144-465a-ea65-a2e5123df0a4",
        "colab": {
          "base_uri": "https://localhost:8080/"
        }
      },
      "execution_count": null,
      "outputs": [
        {
          "output_type": "stream",
          "name": "stdout",
          "text": [
            "100\n"
          ]
        }
      ]
    },
    {
      "cell_type": "code",
      "source": [
        "def Recurgcd(a, b):\n",
        "\tlow = min(a, b)\n",
        "\thigh = max(a, b)\n",
        "\n",
        "\tif low == 0:\n",
        "\t\treturn high\n",
        "\telif low == 1:\n",
        "\t\treturn 1\n",
        "\telse:\n",
        "\t\treturn Recurgcd(low, high%low)\n",
        "print(Recurgcd(12,14))"
      ],
      "metadata": {
        "id": "JW-OPoTG1fyQ",
        "outputId": "4632fa98-3b05-4ebf-9f15-6de1a281bdc3",
        "colab": {
          "base_uri": "https://localhost:8080/"
        }
      },
      "execution_count": null,
      "outputs": [
        {
          "output_type": "stream",
          "name": "stdout",
          "text": [
            "2\n"
          ]
        }
      ]
    },
    {
      "cell_type": "code",
      "source": [
        "def triangle(n):\n",
        "   trow = [1]\n",
        "   y = [0]\n",
        "   for x in range(max(n,0)):\n",
        "      print(trow)\n",
        "      trow=[l+r for l,r in zip(trow+y, y+trow)]\n",
        "   return n>=1\n",
        "triangle(6)\n"
      ],
      "metadata": {
        "id": "BYPJunya1jtC"
      },
      "execution_count": null,
      "outputs": []
    }
  ]
}